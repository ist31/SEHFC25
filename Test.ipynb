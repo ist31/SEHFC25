{
 "cells": [
  {
   "cell_type": "code",
   "execution_count": 2,
   "metadata": {},
   "outputs": [
    {
     "name": "stdout",
     "output_type": "stream",
     "text": [
      "The last closing price of AAPL was: 247.6999969482422\n"
     ]
    },
    {
     "name": "stderr",
     "output_type": "stream",
     "text": [
      "/Users/ilijasteinmann/anaconda3/envs/SEHFC/lib/python3.11/site-packages/yfinance/utils.py:775: FutureWarning: The 'unit' keyword in TimedeltaIndex construction is deprecated and will be removed in a future version. Use pd.to_timedelta instead.\n",
      "  df.index += _pd.TimedeltaIndex(dst_error_hours, 'h')\n"
     ]
    }
   ],
   "source": [
    "import yfinance as yf\n",
    "\n",
    "# Create a Ticker object for AAPL\n",
    "aapl = yf.Ticker(\"AAPL\")\n",
    "\n",
    "# Fetch recent market data (e.g., for the last 1 day)\n",
    "data = aapl.history(period=\"1d\")\n",
    "\n",
    "# The DataFrame returned includes Open, High, Low, Close, Volume, and Dividends.\n",
    "# We'll access the most recent closing price:\n",
    "last_close_price = data['Close'].iloc[-1]\n",
    "\n",
    "print(f\"The last closing price of AAPL was: {last_close_price}\")"
   ]
  }
 ],
 "metadata": {
  "kernelspec": {
   "display_name": "SEHFC",
   "language": "python",
   "name": "python3"
  },
  "language_info": {
   "codemirror_mode": {
    "name": "ipython",
    "version": 3
   },
   "file_extension": ".py",
   "mimetype": "text/x-python",
   "name": "python",
   "nbconvert_exporter": "python",
   "pygments_lexer": "ipython3",
   "version": "3.11.7"
  }
 },
 "nbformat": 4,
 "nbformat_minor": 2
}
